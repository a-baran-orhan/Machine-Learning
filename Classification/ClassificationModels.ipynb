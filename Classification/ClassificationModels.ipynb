{
  "nbformat": 4,
  "nbformat_minor": 5,
  "metadata": {
    "colab": {
      "name": "ClassificationModels.ipynb",
      "provenance": [],
      "collapsed_sections": []
    },
    "kernelspec": {
      "display_name": "Python 3",
      "language": "python",
      "name": "python3"
    },
    "language_info": {
      "codemirror_mode": {
        "name": "ipython",
        "version": 3
      },
      "file_extension": ".py",
      "mimetype": "text/x-python",
      "name": "python",
      "nbconvert_exporter": "python",
      "pygments_lexer": "ipython3",
      "version": "3.8.8"
    }
  },
  "cells": [
    {
      "cell_type": "markdown",
      "metadata": {
        "id": "32135f87"
      },
      "source": [
        "# Comparison of the performances of classification models\n",
        "\"\"\"Adem Baran Orhan\"\"\"\n",
        "\n",
        "Builded  kNN and logistic regression classifiers \n",
        "Our purpose is predict \"satisfaction\" \n",
        "-Shuffled and split your data into train, validation and test sets. \n",
        "\n",
        "-Compared 2 classification models according to their accuracies \n",
        "\n",
        "-Confusion matrices for models\n",
        "\n",
        "-Precision-Recall (PR) curves for each classification model over the test set\n"
      ],
      "id": "32135f87"
    },
    {
      "cell_type": "code",
      "metadata": {
        "id": "5aa31fdb"
      },
      "source": [
        "import pandas as pd\n",
        "import numpy as np\n",
        "import matplotlib.pyplot as plt\n",
        "%matplotlib inline\n",
        "import seaborn as sns\n",
        "from sklearn.model_selection import train_test_split\n",
        "from sklearn.metrics import accuracy_score\n",
        "from sklearn.model_selection import cross_val_score\n",
        "from sklearn.linear_model import LogisticRegression\n",
        "from sklearn.model_selection import cross_val_score\n",
        "from sklearn.preprocessing import LabelEncoder\n",
        "from sklearn.metrics import classification_report\n",
        "from sklearn.model_selection import cross_val_predict\n",
        "from sklearn.neighbors import KNeighborsClassifier as KNN\n",
        "from sklearn.metrics import f1_score\n",
        "from sklearn.model_selection import KFold\n",
        "KFold\n",
        "import warnings\n",
        "warnings.filterwarnings(\"ignore\")\n",
        "%matplotlib inline"
      ],
      "id": "5aa31fdb",
      "execution_count": null,
      "outputs": []
    },
    {
      "cell_type": "code",
      "metadata": {
        "colab": {
          "base_uri": "https://localhost:8080/",
          "height": 400
        },
        "id": "7418f0c0",
        "outputId": "9d856483-dbdd-4571-ab17-ee5ddf25dcef"
      },
      "source": [
        "#Reading the data file\n",
        "#Printing length of the dataframe and first 5 rows\n",
        "df = pd.read_csv('data.csv')\n",
        "print(\"Total rows:\",len(df))\n",
        "print(\"Total columns: \",len(df.columns))\n",
        "display(df.head())"
      ],
      "id": "7418f0c0",
      "execution_count": null,
      "outputs": [
        {
          "output_type": "stream",
          "name": "stdout",
          "text": [
            "Total rows: 1735\n",
            "Total columns:  23\n"
          ]
        },
        {
          "output_type": "display_data",
          "data": {
            "text/html": [
              "<div>\n",
              "<style scoped>\n",
              "    .dataframe tbody tr th:only-of-type {\n",
              "        vertical-align: middle;\n",
              "    }\n",
              "\n",
              "    .dataframe tbody tr th {\n",
              "        vertical-align: top;\n",
              "    }\n",
              "\n",
              "    .dataframe thead th {\n",
              "        text-align: right;\n",
              "    }\n",
              "</style>\n",
              "<table border=\"1\" class=\"dataframe\">\n",
              "  <thead>\n",
              "    <tr style=\"text-align: right;\">\n",
              "      <th></th>\n",
              "      <th>satisfaction</th>\n",
              "      <th>Gender</th>\n",
              "      <th>Customer Type</th>\n",
              "      <th>Age</th>\n",
              "      <th>Type of Travel</th>\n",
              "      <th>Class</th>\n",
              "      <th>Flight Distance</th>\n",
              "      <th>Seat comfort</th>\n",
              "      <th>Departure/Arrival time convenient</th>\n",
              "      <th>Food and drink</th>\n",
              "      <th>Gate location</th>\n",
              "      <th>Inflight wifi service</th>\n",
              "      <th>Inflight entertainment</th>\n",
              "      <th>Online support</th>\n",
              "      <th>Ease of Online booking</th>\n",
              "      <th>On-board service</th>\n",
              "      <th>Leg room service</th>\n",
              "      <th>Baggage handling</th>\n",
              "      <th>Checkin service</th>\n",
              "      <th>Cleanliness</th>\n",
              "      <th>Online boarding</th>\n",
              "      <th>Departure Delay in Minutes</th>\n",
              "      <th>Arrival Delay in Minutes</th>\n",
              "    </tr>\n",
              "  </thead>\n",
              "  <tbody>\n",
              "    <tr>\n",
              "      <th>0</th>\n",
              "      <td>satisfied</td>\n",
              "      <td>Female</td>\n",
              "      <td>Loyal Customer</td>\n",
              "      <td>65</td>\n",
              "      <td>Personal Travel</td>\n",
              "      <td>Eco</td>\n",
              "      <td>265</td>\n",
              "      <td>0</td>\n",
              "      <td>0</td>\n",
              "      <td>0</td>\n",
              "      <td>2</td>\n",
              "      <td>2</td>\n",
              "      <td>4</td>\n",
              "      <td>2</td>\n",
              "      <td>3</td>\n",
              "      <td>3</td>\n",
              "      <td>0</td>\n",
              "      <td>3</td>\n",
              "      <td>5</td>\n",
              "      <td>3</td>\n",
              "      <td>2</td>\n",
              "      <td>0</td>\n",
              "      <td>0.0</td>\n",
              "    </tr>\n",
              "    <tr>\n",
              "      <th>1</th>\n",
              "      <td>satisfied</td>\n",
              "      <td>Male</td>\n",
              "      <td>Loyal Customer</td>\n",
              "      <td>47</td>\n",
              "      <td>Personal Travel</td>\n",
              "      <td>Business</td>\n",
              "      <td>2464</td>\n",
              "      <td>0</td>\n",
              "      <td>0</td>\n",
              "      <td>0</td>\n",
              "      <td>3</td>\n",
              "      <td>0</td>\n",
              "      <td>2</td>\n",
              "      <td>2</td>\n",
              "      <td>3</td>\n",
              "      <td>4</td>\n",
              "      <td>4</td>\n",
              "      <td>4</td>\n",
              "      <td>2</td>\n",
              "      <td>3</td>\n",
              "      <td>2</td>\n",
              "      <td>310</td>\n",
              "      <td>305.0</td>\n",
              "    </tr>\n",
              "    <tr>\n",
              "      <th>2</th>\n",
              "      <td>satisfied</td>\n",
              "      <td>Female</td>\n",
              "      <td>Loyal Customer</td>\n",
              "      <td>15</td>\n",
              "      <td>Personal Travel</td>\n",
              "      <td>Eco</td>\n",
              "      <td>2138</td>\n",
              "      <td>0</td>\n",
              "      <td>0</td>\n",
              "      <td>0</td>\n",
              "      <td>3</td>\n",
              "      <td>2</td>\n",
              "      <td>0</td>\n",
              "      <td>2</td>\n",
              "      <td>2</td>\n",
              "      <td>3</td>\n",
              "      <td>3</td>\n",
              "      <td>4</td>\n",
              "      <td>4</td>\n",
              "      <td>4</td>\n",
              "      <td>2</td>\n",
              "      <td>0</td>\n",
              "      <td>0.0</td>\n",
              "    </tr>\n",
              "    <tr>\n",
              "      <th>3</th>\n",
              "      <td>satisfied</td>\n",
              "      <td>Female</td>\n",
              "      <td>Loyal Customer</td>\n",
              "      <td>60</td>\n",
              "      <td>Personal Travel</td>\n",
              "      <td>Eco</td>\n",
              "      <td>623</td>\n",
              "      <td>0</td>\n",
              "      <td>0</td>\n",
              "      <td>0</td>\n",
              "      <td>3</td>\n",
              "      <td>3</td>\n",
              "      <td>4</td>\n",
              "      <td>3</td>\n",
              "      <td>1</td>\n",
              "      <td>1</td>\n",
              "      <td>0</td>\n",
              "      <td>1</td>\n",
              "      <td>4</td>\n",
              "      <td>1</td>\n",
              "      <td>3</td>\n",
              "      <td>0</td>\n",
              "      <td>0.0</td>\n",
              "    </tr>\n",
              "    <tr>\n",
              "      <th>4</th>\n",
              "      <td>satisfied</td>\n",
              "      <td>Female</td>\n",
              "      <td>Loyal Customer</td>\n",
              "      <td>70</td>\n",
              "      <td>Personal Travel</td>\n",
              "      <td>Eco</td>\n",
              "      <td>354</td>\n",
              "      <td>0</td>\n",
              "      <td>0</td>\n",
              "      <td>0</td>\n",
              "      <td>3</td>\n",
              "      <td>4</td>\n",
              "      <td>3</td>\n",
              "      <td>4</td>\n",
              "      <td>2</td>\n",
              "      <td>2</td>\n",
              "      <td>0</td>\n",
              "      <td>2</td>\n",
              "      <td>4</td>\n",
              "      <td>2</td>\n",
              "      <td>5</td>\n",
              "      <td>0</td>\n",
              "      <td>0.0</td>\n",
              "    </tr>\n",
              "  </tbody>\n",
              "</table>\n",
              "</div>"
            ],
            "text/plain": [
              "  satisfaction  Gender  ... Departure Delay in Minutes  Arrival Delay in Minutes\n",
              "0    satisfied  Female  ...                          0                       0.0\n",
              "1    satisfied    Male  ...                        310                     305.0\n",
              "2    satisfied  Female  ...                          0                       0.0\n",
              "3    satisfied  Female  ...                          0                       0.0\n",
              "4    satisfied  Female  ...                          0                       0.0\n",
              "\n",
              "[5 rows x 23 columns]"
            ]
          },
          "metadata": {}
        }
      ]
    },
    {
      "cell_type": "code",
      "source": [
        "#Converting categorical values to numerical values with the LabelEncoder and printing which numbers represents which value\n",
        "le = LabelEncoder()\n",
        "\n",
        "encoded_satis = le.fit_transform(df['satisfaction'])\n",
        "df['satisfaction'] = encoded_satis\n",
        "\n",
        "encoded_gender = le.fit_transform(df['Gender'])\n",
        "df['Gender'] = encoded_gender\n",
        "\n",
        "encoded_cust_type = le.fit_transform(df['Customer Type'])\n",
        "df['Customer Type'] = encoded_cust_type\n",
        "\n",
        "encoded_travel_type = le.fit_transform(df['Type of Travel'])\n",
        "df['Type of Travel'] = encoded_travel_type\n",
        "\n",
        "encoded_class = le.fit_transform(df['Class'])\n",
        "df['Class'] = encoded_class\n",
        "\n",
        "print(\"After the converting categorical variables to numerical variables\")\n",
        "print(\"Satisfied=1,Dissatisfied=0\")\n",
        "print(\"Male=1, Female = 0\")        \n",
        "print(\"Loyal Customer = 0, Disloyal Customer = 1\")\n",
        "print(\"Business Travel = 0, Personal Travel = 1\")\n",
        "print(\"Eco =1, Eco Plus = 2, Business = 0\")\n",
        "\n",
        "display(df.head())"
      ],
      "metadata": {
        "colab": {
          "base_uri": "https://localhost:8080/",
          "height": 382
        },
        "id": "cMc1naRjDxXR",
        "outputId": "7da94136-59da-491d-f8fe-4c873ba9dd50"
      },
      "id": "cMc1naRjDxXR",
      "execution_count": null,
      "outputs": [
        {
          "output_type": "stream",
          "name": "stdout",
          "text": [
            "After the converting categorical variables to numerical variables\n",
            "Satisfied=1,Dissatisfied=0\n",
            "Male=1, Female = 0\n",
            "Loyal Customer = 0, Disloyal Customer = 1\n",
            "Business Travel = 0, Personal Travel = 1\n",
            "Eco =1, Eco Plus = 2, Business = 0\n"
          ]
        },
        {
          "output_type": "display_data",
          "data": {
            "text/html": [
              "<div>\n",
              "<style scoped>\n",
              "    .dataframe tbody tr th:only-of-type {\n",
              "        vertical-align: middle;\n",
              "    }\n",
              "\n",
              "    .dataframe tbody tr th {\n",
              "        vertical-align: top;\n",
              "    }\n",
              "\n",
              "    .dataframe thead th {\n",
              "        text-align: right;\n",
              "    }\n",
              "</style>\n",
              "<table border=\"1\" class=\"dataframe\">\n",
              "  <thead>\n",
              "    <tr style=\"text-align: right;\">\n",
              "      <th></th>\n",
              "      <th>satisfaction</th>\n",
              "      <th>Gender</th>\n",
              "      <th>Customer Type</th>\n",
              "      <th>Age</th>\n",
              "      <th>Type of Travel</th>\n",
              "      <th>Class</th>\n",
              "      <th>Flight Distance</th>\n",
              "      <th>Seat comfort</th>\n",
              "      <th>Departure/Arrival time convenient</th>\n",
              "      <th>Food and drink</th>\n",
              "      <th>Gate location</th>\n",
              "      <th>Inflight wifi service</th>\n",
              "      <th>Inflight entertainment</th>\n",
              "      <th>Online support</th>\n",
              "      <th>Ease of Online booking</th>\n",
              "      <th>On-board service</th>\n",
              "      <th>Leg room service</th>\n",
              "      <th>Baggage handling</th>\n",
              "      <th>Checkin service</th>\n",
              "      <th>Cleanliness</th>\n",
              "      <th>Online boarding</th>\n",
              "      <th>Departure Delay in Minutes</th>\n",
              "      <th>Arrival Delay in Minutes</th>\n",
              "    </tr>\n",
              "  </thead>\n",
              "  <tbody>\n",
              "    <tr>\n",
              "      <th>0</th>\n",
              "      <td>1</td>\n",
              "      <td>0</td>\n",
              "      <td>0</td>\n",
              "      <td>65</td>\n",
              "      <td>1</td>\n",
              "      <td>1</td>\n",
              "      <td>265</td>\n",
              "      <td>0</td>\n",
              "      <td>0</td>\n",
              "      <td>0</td>\n",
              "      <td>2</td>\n",
              "      <td>2</td>\n",
              "      <td>4</td>\n",
              "      <td>2</td>\n",
              "      <td>3</td>\n",
              "      <td>3</td>\n",
              "      <td>0</td>\n",
              "      <td>3</td>\n",
              "      <td>5</td>\n",
              "      <td>3</td>\n",
              "      <td>2</td>\n",
              "      <td>0</td>\n",
              "      <td>0.0</td>\n",
              "    </tr>\n",
              "    <tr>\n",
              "      <th>1</th>\n",
              "      <td>1</td>\n",
              "      <td>1</td>\n",
              "      <td>0</td>\n",
              "      <td>47</td>\n",
              "      <td>1</td>\n",
              "      <td>0</td>\n",
              "      <td>2464</td>\n",
              "      <td>0</td>\n",
              "      <td>0</td>\n",
              "      <td>0</td>\n",
              "      <td>3</td>\n",
              "      <td>0</td>\n",
              "      <td>2</td>\n",
              "      <td>2</td>\n",
              "      <td>3</td>\n",
              "      <td>4</td>\n",
              "      <td>4</td>\n",
              "      <td>4</td>\n",
              "      <td>2</td>\n",
              "      <td>3</td>\n",
              "      <td>2</td>\n",
              "      <td>310</td>\n",
              "      <td>305.0</td>\n",
              "    </tr>\n",
              "    <tr>\n",
              "      <th>2</th>\n",
              "      <td>1</td>\n",
              "      <td>0</td>\n",
              "      <td>0</td>\n",
              "      <td>15</td>\n",
              "      <td>1</td>\n",
              "      <td>1</td>\n",
              "      <td>2138</td>\n",
              "      <td>0</td>\n",
              "      <td>0</td>\n",
              "      <td>0</td>\n",
              "      <td>3</td>\n",
              "      <td>2</td>\n",
              "      <td>0</td>\n",
              "      <td>2</td>\n",
              "      <td>2</td>\n",
              "      <td>3</td>\n",
              "      <td>3</td>\n",
              "      <td>4</td>\n",
              "      <td>4</td>\n",
              "      <td>4</td>\n",
              "      <td>2</td>\n",
              "      <td>0</td>\n",
              "      <td>0.0</td>\n",
              "    </tr>\n",
              "    <tr>\n",
              "      <th>3</th>\n",
              "      <td>1</td>\n",
              "      <td>0</td>\n",
              "      <td>0</td>\n",
              "      <td>60</td>\n",
              "      <td>1</td>\n",
              "      <td>1</td>\n",
              "      <td>623</td>\n",
              "      <td>0</td>\n",
              "      <td>0</td>\n",
              "      <td>0</td>\n",
              "      <td>3</td>\n",
              "      <td>3</td>\n",
              "      <td>4</td>\n",
              "      <td>3</td>\n",
              "      <td>1</td>\n",
              "      <td>1</td>\n",
              "      <td>0</td>\n",
              "      <td>1</td>\n",
              "      <td>4</td>\n",
              "      <td>1</td>\n",
              "      <td>3</td>\n",
              "      <td>0</td>\n",
              "      <td>0.0</td>\n",
              "    </tr>\n",
              "    <tr>\n",
              "      <th>4</th>\n",
              "      <td>1</td>\n",
              "      <td>0</td>\n",
              "      <td>0</td>\n",
              "      <td>70</td>\n",
              "      <td>1</td>\n",
              "      <td>1</td>\n",
              "      <td>354</td>\n",
              "      <td>0</td>\n",
              "      <td>0</td>\n",
              "      <td>0</td>\n",
              "      <td>3</td>\n",
              "      <td>4</td>\n",
              "      <td>3</td>\n",
              "      <td>4</td>\n",
              "      <td>2</td>\n",
              "      <td>2</td>\n",
              "      <td>0</td>\n",
              "      <td>2</td>\n",
              "      <td>4</td>\n",
              "      <td>2</td>\n",
              "      <td>5</td>\n",
              "      <td>0</td>\n",
              "      <td>0.0</td>\n",
              "    </tr>\n",
              "  </tbody>\n",
              "</table>\n",
              "</div>"
            ],
            "text/plain": [
              "   satisfaction  Gender  ...  Departure Delay in Minutes  Arrival Delay in Minutes\n",
              "0             1       0  ...                           0                       0.0\n",
              "1             1       1  ...                         310                     305.0\n",
              "2             1       0  ...                           0                       0.0\n",
              "3             1       0  ...                           0                       0.0\n",
              "4             1       0  ...                           0                       0.0\n",
              "\n",
              "[5 rows x 23 columns]"
            ]
          },
          "metadata": {}
        }
      ]
    },
    {
      "cell_type": "code",
      "source": [
        "#Viewing null values \n",
        "print(\"Null in Dataframe set\")\n",
        "print(\"---------------------\")\n",
        "print(df.isnull().sum())"
      ],
      "metadata": {
        "colab": {
          "base_uri": "https://localhost:8080/"
        },
        "id": "NE64yEBcEa4t",
        "outputId": "8a82dd4c-70cb-4263-c5d6-261aa649dc03"
      },
      "id": "NE64yEBcEa4t",
      "execution_count": null,
      "outputs": [
        {
          "output_type": "stream",
          "name": "stdout",
          "text": [
            "Null in Dataframe set\n",
            "---------------------\n",
            "satisfaction                         0\n",
            "Gender                               0\n",
            "Customer Type                        0\n",
            "Age                                  0\n",
            "Type of Travel                       0\n",
            "Class                                0\n",
            "Flight Distance                      0\n",
            "Seat comfort                         0\n",
            "Departure/Arrival time convenient    0\n",
            "Food and drink                       0\n",
            "Gate location                        0\n",
            "Inflight wifi service                0\n",
            "Inflight entertainment               0\n",
            "Online support                       0\n",
            "Ease of Online booking               0\n",
            "On-board service                     0\n",
            "Leg room service                     0\n",
            "Baggage handling                     0\n",
            "Checkin service                      0\n",
            "Cleanliness                          0\n",
            "Online boarding                      0\n",
            "Departure Delay in Minutes           0\n",
            "Arrival Delay in Minutes             5\n",
            "dtype: int64\n"
          ]
        }
      ]
    },
    {
      "cell_type": "code",
      "source": [
        "#For understanding the missing values at the column and, we understand that graph is skewed. So best way to impute is mode.\n",
        "fig,ax = plt.subplots(figsize=(10,8))\n",
        "sns.distplot(df['Arrival Delay in Minutes'])"
      ],
      "metadata": {
        "colab": {
          "base_uri": "https://localhost:8080/",
          "height": 514
        },
        "id": "PRnMSDk_OSlK",
        "outputId": "62875fc4-cda2-4a67-d619-43023cd114d8"
      },
      "id": "PRnMSDk_OSlK",
      "execution_count": null,
      "outputs": [
        {
          "output_type": "execute_result",
          "data": {
            "text/plain": [
              "<matplotlib.axes._subplots.AxesSubplot at 0x7f0bcb189e90>"
            ]
          },
          "metadata": {},
          "execution_count": 74
        },
        {
          "output_type": "display_data",
          "data": {
            "image/png": "[encoded data removed]",
            "text/plain": [
              "<Figure size 720x576 with 1 Axes>"
            ]
          },
          "metadata": {
            "needs_background": "light"
          }
        }
      ]
    },
    {
      "cell_type": "code",
      "source": [
        "#We have only 5 nan values,and above figure shows us which imputation will be better, so we impute with the mode of the that column\n",
        "df['Arrival Delay in Minutes'].fillna(df['Arrival Delay in Minutes'].mode()[0],inplace=True)\n",
        "print(\"Null in Dataframe set\")\n",
        "print(\"---------------------\")\n",
        "print(df.isnull().sum())"
      ],
      "metadata": {
        "colab": {
          "base_uri": "https://localhost:8080/"
        },
        "id": "vJCy2NDrFOZd",
        "outputId": "afa78519-da60-4b85-b206-cfa5a676ce26"
      },
      "id": "vJCy2NDrFOZd",
      "execution_count": null,
      "outputs": [
        {
          "output_type": "stream",
          "name": "stdout",
          "text": [
            "Null in Dataframe set\n",
            "---------------------\n",
            "satisfaction                         0\n",
            "Gender                               0\n",
            "Customer Type                        0\n",
            "Age                                  0\n",
            "Type of Travel                       0\n",
            "Class                                0\n",
            "Flight Distance                      0\n",
            "Seat comfort                         0\n",
            "Departure/Arrival time convenient    0\n",
            "Food and drink                       0\n",
            "Gate location                        0\n",
            "Inflight wifi service                0\n",
            "Inflight entertainment               0\n",
            "Online support                       0\n",
            "Ease of Online booking               0\n",
            "On-board service                     0\n",
            "Leg room service                     0\n",
            "Baggage handling                     0\n",
            "Checkin service                      0\n",
            "Cleanliness                          0\n",
            "Online boarding                      0\n",
            "Departure Delay in Minutes           0\n",
            "Arrival Delay in Minutes             0\n",
            "dtype: int64\n"
          ]
        }
      ]
    },
    {
      "cell_type": "code",
      "metadata": {
        "colab": {
          "base_uri": "https://localhost:8080/"
        },
        "id": "fdefafab",
        "outputId": "6f3490fd-8afa-401c-cf26-ba3ca824cdbf"
      },
      "source": [
        "#shuffling whole data\n",
        "df = df.sample(frac=1, random_state=42).reset_index(drop=True)  \n",
        "\n",
        "#splitting data to x and y. y is output and x is input\n",
        "x = df.drop(columns = ['satisfaction']).copy()\n",
        "y = df['satisfaction'].to_frame()\n",
        "\n",
        "#Importing minmax scaler and using it on x\n",
        "#using scaler because decreasing the diffucilty of modeling \n",
        "from sklearn.preprocessing import MinMaxScaler\n",
        "scaler = MinMaxScaler()\n",
        "x_scaled = scaler.fit_transform(x)\n",
        "\n",
        "#for spliting data to 3 sets(train,valid,test) we will use 2 times train_test_split\n",
        "#ratio is 70:10:20 with order \n",
        "# stratify parameter makes a split so that the proportion of values in the sample produced will be the same as the proportion of values provided to parameter 'stratify'.\n",
        "#%10 of our data is equals 173,5 and I rounded it to 174 rows\n",
        "#%20 of our data is equals 347 to obtain this row numbers we used 0.3344\n",
        "x_train, x_rest, y_train, y_rest = train_test_split(x,y, train_size=0.7,random_state = 0,stratify=y) \n",
        "x_valid, x_test, y_valid, y_test = train_test_split(x_rest,y_rest,train_size=0.3344,random_state=0)\n",
        "\n",
        "print(\"x_train:\",x_train.shape), print(\"y_train: \",y_train.shape)\n",
        "print(\"x_valid: \",x_valid.shape), print(\"y_train: \",y_valid.shape)\n",
        "print(\"x_test: \",x_test.shape), print(\"y_test: \",y_test.shape)"
      ],
      "id": "fdefafab",
      "execution_count": null,
      "outputs": [
        {
          "output_type": "stream",
          "name": "stdout",
          "text": [
            "x_train: (1214, 22)\n",
            "y_train:  (1214, 1)\n",
            "x_valid:  (174, 22)\n",
            "y_train:  (174, 1)\n",
            "x_test:  (347, 22)\n",
            "y_test:  (347, 1)\n"
          ]
        },
        {
          "output_type": "execute_result",
          "data": {
            "text/plain": [
              "(None, None)"
            ]
          },
          "metadata": {},
          "execution_count": 76
        }
      ]
    },
    {
      "cell_type": "markdown",
      "source": [
        "# Logistic Regression Classification"
      ],
      "metadata": {
        "id": "w3OOGGKGX9pw"
      },
      "id": "w3OOGGKGX9pw"
    },
    {
      "cell_type": "code",
      "source": [
        "#Logistic Regression Implementation\n",
        "\n",
        "# Making predictions and measuring accuracy\n",
        "lr = LogisticRegression()\n",
        "lr.fit(x_train,y_train) #building model with the train set\n",
        "\n",
        "predictions = lr.predict(x_valid) #using validation set to see accuracy and to do parameter selection\n",
        "accuracy = accuracy_score(y_valid, predictions)\n",
        "print(\"Accuracy score is: \",accuracy)\n",
        "from sklearn.metrics import classification_report\n",
        "print(classification_report(y_valid,predictions))\n",
        "\n",
        "\n"
      ],
      "metadata": {
        "id": "N4TJWY4K7cND",
        "colab": {
          "base_uri": "https://localhost:8080/"
        },
        "outputId": "51f560b7-7910-465f-88ff-0aa603036a95"
      },
      "id": "N4TJWY4K7cND",
      "execution_count": null,
      "outputs": [
        {
          "output_type": "stream",
          "name": "stdout",
          "text": [
            "Accuracy score is:  0.9885057471264368\n",
            "              precision    recall  f1-score   support\n",
            "\n",
            "           0       0.98      1.00      0.99        85\n",
            "           1       1.00      0.98      0.99        89\n",
            "\n",
            "    accuracy                           0.99       174\n",
            "   macro avg       0.99      0.99      0.99       174\n",
            "weighted avg       0.99      0.99      0.99       174\n",
            "\n"
          ]
        }
      ]
    },
    {
      "cell_type": "code",
      "source": [
        "# Cross Validation  \n",
        "\n",
        "lr = LogisticRegression()\n",
        "scores = cross_val_score(lr, x, y, cv=10)\n",
        "scores.sort()\n",
        "accuracy_logreg = scores.mean()\n",
        "\n",
        "print(scores)\n",
        "print(\"Cross validation Accuracy\", accuracy_logreg)"
      ],
      "metadata": {
        "colab": {
          "base_uri": "https://localhost:8080/"
        },
        "id": "l7UIKEU3HgG1",
        "outputId": "775a9adf-1f41-430f-9d9a-1a43c10e1734"
      },
      "id": "l7UIKEU3HgG1",
      "execution_count": null,
      "outputs": [
        {
          "output_type": "stream",
          "name": "stdout",
          "text": [
            "[0.94219653 0.94797688 0.97109827 0.97126437 0.97126437 0.97701149\n",
            " 0.97701149 0.98265896 0.98843931 0.99425287]\n",
            "Cross validation Accuracy 0.9723174539897681\n"
          ]
        }
      ]
    },
    {
      "cell_type": "code",
      "source": [
        "#So we have seen two different accuracy. Validation is 0.97 and training accuracy is 0.98. This is normal that validation accuracy lower than the training one.\n",
        "#Important thing is getting the best possible validation accuracy, since this is actually somewhat reflective of how the model will perform in the real life.\n",
        "#F1 Score is used to measure a test’s accuracy"
      ],
      "metadata": {
        "id": "Y6LtB2gWWBc-"
      },
      "id": "Y6LtB2gWWBc-",
      "execution_count": null,
      "outputs": []
    },
    {
      "cell_type": "code",
      "source": [
        "# Making Predictions on Test data\n",
        "\n",
        "lr = LogisticRegression()\n",
        "lr.fit(x_train,y_train)\n",
        "predictions_test = lr.predict(x_test)\n",
        "\n",
        "\n",
        "test_df = pd.DataFrame({'Satisfaction':predictions_test})\n",
        "test_df.head(10)\n",
        "#Below table shows us how our model predicting the satisfaction values. Except the 4th one other predictions are true."
      ],
      "metadata": {
        "colab": {
          "base_uri": "https://localhost:8080/",
          "height": 363
        },
        "id": "Avqp-QC4HqyB",
        "outputId": "a98d0455-0434-44db-ff79-50200789e871"
      },
      "id": "Avqp-QC4HqyB",
      "execution_count": null,
      "outputs": [
        {
          "output_type": "execute_result",
          "data": {
            "text/html": [
              "<div>\n",
              "<style scoped>\n",
              "    .dataframe tbody tr th:only-of-type {\n",
              "        vertical-align: middle;\n",
              "    }\n",
              "\n",
              "    .dataframe tbody tr th {\n",
              "        vertical-align: top;\n",
              "    }\n",
              "\n",
              "    .dataframe thead th {\n",
              "        text-align: right;\n",
              "    }\n",
              "</style>\n",
              "<table border=\"1\" class=\"dataframe\">\n",
              "  <thead>\n",
              "    <tr style=\"text-align: right;\">\n",
              "      <th></th>\n",
              "      <th>Satisfaction</th>\n",
              "    </tr>\n",
              "  </thead>\n",
              "  <tbody>\n",
              "    <tr>\n",
              "      <th>0</th>\n",
              "      <td>1</td>\n",
              "    </tr>\n",
              "    <tr>\n",
              "      <th>1</th>\n",
              "      <td>1</td>\n",
              "    </tr>\n",
              "    <tr>\n",
              "      <th>2</th>\n",
              "      <td>1</td>\n",
              "    </tr>\n",
              "    <tr>\n",
              "      <th>3</th>\n",
              "      <td>0</td>\n",
              "    </tr>\n",
              "    <tr>\n",
              "      <th>4</th>\n",
              "      <td>1</td>\n",
              "    </tr>\n",
              "    <tr>\n",
              "      <th>5</th>\n",
              "      <td>1</td>\n",
              "    </tr>\n",
              "    <tr>\n",
              "      <th>6</th>\n",
              "      <td>1</td>\n",
              "    </tr>\n",
              "    <tr>\n",
              "      <th>7</th>\n",
              "      <td>1</td>\n",
              "    </tr>\n",
              "    <tr>\n",
              "      <th>8</th>\n",
              "      <td>1</td>\n",
              "    </tr>\n",
              "    <tr>\n",
              "      <th>9</th>\n",
              "      <td>1</td>\n",
              "    </tr>\n",
              "  </tbody>\n",
              "</table>\n",
              "</div>"
            ],
            "text/plain": [
              "   Satisfaction\n",
              "0             1\n",
              "1             1\n",
              "2             1\n",
              "3             0\n",
              "4             1\n",
              "5             1\n",
              "6             1\n",
              "7             1\n",
              "8             1\n",
              "9             1"
            ]
          },
          "metadata": {},
          "execution_count": 80
        }
      ]
    },
    {
      "cell_type": "code",
      "source": [
        "#Confusion matrices For LogicalRegression\n",
        "from sklearn.metrics import confusion_matrix  \n",
        "lr = LogisticRegression()\n",
        "lr.fit(x_train,y_train)\n",
        "y_pred = lr.predict(x_test)\n",
        "\n",
        "\n",
        "sns.heatmap(confusion_matrix(y_test,y_pred),\n",
        "            annot=True,fmt='3.0f',cmap=\"summer\")\n",
        "plt.title('Confusion_matrix', y=1.05, size=15)\n",
        "#Confusion Matrix gives us a matrix as output and describes the complete performance of the model.Confusion Matrix forms the basis for the other types of metrics.\n",
        "#Our values are TP=176 TN=163 FP=7 FN=1\n",
        "#Precision = 176/183 = 0,96\n",
        "#Precision is how certain you are of your true positives. So we can say that by the matrix our model is certain"
      ],
      "metadata": {
        "colab": {
          "base_uri": "https://localhost:8080/",
          "height": 300
        },
        "id": "Ylt5QsJMIREN",
        "outputId": "32fbec44-3c73-421b-8bc6-ce5bc5d2efa6"
      },
      "id": "Ylt5QsJMIREN",
      "execution_count": null,
      "outputs": [
        {
          "output_type": "execute_result",
          "data": {
            "text/plain": [
              "Text(0.5, 1.05, 'Confusion_matrix')"
            ]
          },
          "metadata": {},
          "execution_count": 81
        },
        {
          "output_type": "display_data",
          "data": {
            "image/png": "[encoded data removed]",
            "text/plain": [
              "<Figure size 432x288 with 2 Axes>"
            ]
          },
          "metadata": {
            "needs_background": "light"
          }
        }
      ]
    },
    {
      "cell_type": "code",
      "source": [
        "#Plotting Precision Recall curve for LogicalRegression\n",
        "\n",
        "from sklearn.pipeline import Pipeline\n",
        "from sklearn.metrics import plot_precision_recall_curve\n",
        "p = Pipeline([('mod', LogisticRegression(random_state=0))\n",
        "])\n",
        "p.fit(x_train, y_train)\n",
        "plot_precision_recall_curve(p, x_test, y_test)\n",
        "#The right upper corner is what we ideally want and our curve is not exactly there. This is good thing \n",
        "#Area under the curve is important for us.We have more area so we have better model."
      ],
      "metadata": {
        "colab": {
          "base_uri": "https://localhost:8080/",
          "height": 296
        },
        "id": "EYGzzlXjTR-C",
        "outputId": "25ec3171-03d8-4ba1-ccd8-b360ec14aa85"
      },
      "id": "EYGzzlXjTR-C",
      "execution_count": null,
      "outputs": [
        {
          "output_type": "execute_result",
          "data": {
            "text/plain": [
              "<sklearn.metrics._plot.precision_recall_curve.PrecisionRecallDisplay at 0x7f0bcb3784d0>"
            ]
          },
          "metadata": {},
          "execution_count": 82
        },
        {
          "output_type": "display_data",
          "data": {
            "image/png": "[encoded data removed]",
            "text/plain": [
              "<Figure size 432x288 with 1 Axes>"
            ]
          },
          "metadata": {
            "needs_background": "light"
          }
        }
      ]
    },
    {
      "cell_type": "markdown",
      "source": [
        "# k-NN Classification"
      ],
      "metadata": {
        "id": "O64nX5IuYDlX"
      },
      "id": "O64nX5IuYDlX"
    },
    {
      "cell_type": "code",
      "source": [
        "# Elbow for Classifier\n",
        "def Elbow(K,p,x_train,y_train,x_valid,y_valid):\n",
        "    #initiating empty list\n",
        "    test_error = []\n",
        "   \n",
        "    #training model for evey value of K\n",
        "    for i in K:\n",
        "        #Instance oh KNN\n",
        "        clf = KNN(n_neighbors = i,p=p)\n",
        "        clf.fit(x_train, y_train)\n",
        "        # Appending F1 scores to empty list calculated using the predictions\n",
        "        tmp = clf.predict(x_valid)\n",
        "        tmp = f1_score(tmp,y_valid)\n",
        "        error = 1-tmp\n",
        "        test_error.append(error)\n",
        "    \n",
        "    return test_error"
      ],
      "metadata": {
        "id": "OnK4JFAOpKiG"
      },
      "id": "OnK4JFAOpKiG",
      "execution_count": null,
      "outputs": []
    },
    {
      "cell_type": "markdown",
      "source": [
        "## k-NN for Manhattan Distance p=1"
      ],
      "metadata": {
        "id": "NG1ns_IVwUhI"
      },
      "id": "NG1ns_IVwUhI"
    },
    {
      "cell_type": "code",
      "source": [
        "k = range(1, 20,2)\n",
        "test = Elbow(k,1,x_train,y_train,x_valid,y_valid)\n",
        "# plotting the Curves\n",
        "plt.plot(k, test)\n",
        "plt.xlabel('K Neighbors')\n",
        "plt.ylabel('Test error')\n",
        "plt.title('Elbow Curve for test')\n",
        "#We can see the lower part is 5 so we are selecting the n_neighbors equls 5"
      ],
      "metadata": {
        "colab": {
          "base_uri": "https://localhost:8080/",
          "height": 312
        },
        "id": "_meuB7VntOvt",
        "outputId": "0dc73417-d360-4e30-d482-06a040c0843c"
      },
      "id": "_meuB7VntOvt",
      "execution_count": null,
      "outputs": [
        {
          "output_type": "execute_result",
          "data": {
            "text/plain": [
              "Text(0.5, 1.0, 'Elbow Curve for test')"
            ]
          },
          "metadata": {},
          "execution_count": 84
        },
        {
          "output_type": "display_data",
          "data": {
            "image/png": "[encoded data removed]",
            "text/plain": [
              "<Figure size 432x288 with 1 Axes>"
            ]
          },
          "metadata": {
            "needs_background": "light"
          }
        }
      ]
    },
    {
      "cell_type": "code",
      "source": [
        "clf = KNN(n_neighbors = 5,p=1)\n",
        "\n",
        "# Fitting the model\n",
        "clf.fit(x_train, y_train)\n",
        "\n",
        "# Predicting over the Train Set and calculating F1 score\n",
        "test_predict = clf.predict(x_valid)\n",
        "k = f1_score(test_predict, y_valid)\n",
        "print('Test F1 Score    ', k )"
      ],
      "metadata": {
        "colab": {
          "base_uri": "https://localhost:8080/"
        },
        "id": "CoDw7G8IvlXD",
        "outputId": "a5ebdc8e-975d-4b97-a9c5-9719338ad9ba"
      },
      "id": "CoDw7G8IvlXD",
      "execution_count": null,
      "outputs": [
        {
          "output_type": "stream",
          "name": "stdout",
          "text": [
            "Test F1 Score     0.7692307692307693\n"
          ]
        }
      ]
    },
    {
      "cell_type": "code",
      "source": [
        "model = KNeighborsClassifier(n_neighbors = 5,p=1)\n",
        "model.fit(x_train,y_train)\n",
        "prediction_knn1=model.predict(x_valid)\n",
        "\n",
        "print('--------------The Accuracy of the model----------------------------')\n",
        "print('The accuracy of the K Nearst Neighbors Classifier is',\n",
        "      round(accuracy_score(prediction_knn1,\n",
        "                           y_valid)*100,2))\n",
        "print(\"---------------------------------------------------------------------\")\n",
        "print(classification_report(y_valid,prediction_knn1))"
      ],
      "metadata": {
        "colab": {
          "base_uri": "https://localhost:8080/"
        },
        "id": "08rB7q4MwsB5",
        "outputId": "df3277b4-1c11-4f28-8ef2-18c639d95d1a"
      },
      "id": "08rB7q4MwsB5",
      "execution_count": null,
      "outputs": [
        {
          "output_type": "stream",
          "name": "stdout",
          "text": [
            "--------------The Accuracy of the model----------------------------\n",
            "The accuracy of the K Nearst Neighbors Classifier is 77.59\n",
            "---------------------------------------------------------------------\n",
            "              precision    recall  f1-score   support\n",
            "\n",
            "           0       0.74      0.82      0.78        85\n",
            "           1       0.81      0.73      0.77        89\n",
            "\n",
            "    accuracy                           0.78       174\n",
            "   macro avg       0.78      0.78      0.78       174\n",
            "weighted avg       0.78      0.78      0.78       174\n",
            "\n"
          ]
        }
      ]
    },
    {
      "cell_type": "code",
      "source": [
        "kfold = KFold(n_splits=10)                          # k=10, split the data into 10 equal parts\n",
        "      \n",
        "\n",
        "result_knn=cross_val_score(clf,\n",
        "                           x,\n",
        "                           y,\n",
        "                           cv=10,\n",
        "                           scoring='accuracy')\n",
        "\n",
        "print('The cross validated score for K Nearest Neighbors Classifier is:',\n",
        "      round(result_knn.mean()*100,2))"
      ],
      "metadata": {
        "colab": {
          "base_uri": "https://localhost:8080/"
        },
        "id": "0Lkxg5FPxT0b",
        "outputId": "a526fc06-bd7d-42c8-df7b-628f7131556a"
      },
      "id": "0Lkxg5FPxT0b",
      "execution_count": null,
      "outputs": [
        {
          "output_type": "stream",
          "name": "stdout",
          "text": [
            "The cross validated score for K Nearest Neighbors Classifier is: 80.46\n"
          ]
        }
      ]
    },
    {
      "cell_type": "code",
      "source": [
        "#Our cross validation score for Knn is 80 and accuracy of the Classifier is 77.59. We can see that cross validation is greater than the our model.\n",
        "#An our model for p=1 is giving better results comparing to p=2 but when compared to logistic regression there is mroe than 15 point difference.\n",
        "#Important thing is getting the best possible validation accuracy, since this is actually somewhat reflective of how the model will perform in the real life.\n",
        "#F1 Score is used to measure a test’s accuracy and it is 0.78"
      ],
      "metadata": {
        "id": "sm-nvd38a3MW"
      },
      "id": "sm-nvd38a3MW",
      "execution_count": null,
      "outputs": []
    },
    {
      "cell_type": "code",
      "source": [
        "y_pred = cross_val_predict(model,\n",
        "                           x_test,\n",
        "                           y_test,\n",
        "                           cv=10)\n",
        "\n",
        "sns.heatmap(confusion_matrix(y_test,y_pred),\n",
        "            annot=True,fmt='3.0f',\n",
        "            cmap=\"summer\")\n",
        "\n",
        "plt.title('Confusion_matrix',\n",
        "          y=1.05,\n",
        "          size=15)\n",
        "#Confusion Matrix gives us a matrix as output and describes the complete performance of the model.Confusion Matrix forms the basis for the other types of metrics.\n",
        "#Our values are TP=124 TN=124 FP=59 FN=40\n",
        "#Precision = 124/183 = 0,67\n",
        "#Precision is how certain you are of your true positives. Our model is not as good as logistic regression.But better than the second knn model with p=2()"
      ],
      "metadata": {
        "colab": {
          "base_uri": "https://localhost:8080/",
          "height": 300
        },
        "id": "PJDlQTFlyMtH",
        "outputId": "8e170a7d-58eb-4eb8-b077-75b0201b8f1c"
      },
      "id": "PJDlQTFlyMtH",
      "execution_count": null,
      "outputs": [
        {
          "output_type": "execute_result",
          "data": {
            "text/plain": [
              "Text(0.5, 1.05, 'Confusion_matrix')"
            ]
          },
          "metadata": {},
          "execution_count": 89
        },
        {
          "output_type": "display_data",
          "data": {
            "image/png": "[encoded data removed]",
            "text/plain": [
              "<Figure size 432x288 with 2 Axes>"
            ]
          },
          "metadata": {
            "needs_background": "light"
          }
        }
      ]
    },
    {
      "cell_type": "code",
      "source": [
        "from sklearn.pipeline import Pipeline\n",
        "from sklearn.metrics import plot_precision_recall_curve\n",
        "p = KNN(n_neighbors=5,p=1)\n",
        "p.fit(x_train, y_train)\n",
        "plot_precision_recall_curve(p, x_test, y_test)\n",
        "#The right upper corner is what we ideally want and our curve is not exactly there. This is good thing \n",
        "#Area under the curve is important for us.We can say that this model is not good as the logistic regression but better than the knn with p=2(Euclidean)"
      ],
      "metadata": {
        "colab": {
          "base_uri": "https://localhost:8080/",
          "height": 296
        },
        "id": "VHHNllXSyyGo",
        "outputId": "b4ebe99b-b587-4ede-8915-635e72a1ee39"
      },
      "id": "VHHNllXSyyGo",
      "execution_count": null,
      "outputs": [
        {
          "output_type": "execute_result",
          "data": {
            "text/plain": [
              "<sklearn.metrics._plot.precision_recall_curve.PrecisionRecallDisplay at 0x7f0bcac41c90>"
            ]
          },
          "metadata": {},
          "execution_count": 90
        },
        {
          "output_type": "display_data",
          "data": {
            "image/png": "[encoded data removed]",
            "text/plain": [
              "<Figure size 432x288 with 1 Axes>"
            ]
          },
          "metadata": {
            "needs_background": "light"
          }
        }
      ]
    },
    {
      "cell_type": "markdown",
      "source": [
        "## k-NN for Euclidean Distance p=2"
      ],
      "metadata": {
        "id": "3QKCrlSUwezQ"
      },
      "id": "3QKCrlSUwezQ"
    },
    {
      "cell_type": "code",
      "source": [
        "k = range(1, 10,2)\n",
        "test = Elbow(k,2,x_train,y_train,x_valid,y_valid)\n",
        "# plotting the Curves\n",
        "plt.plot(k, test)\n",
        "plt.xlabel('K Neighbors')\n",
        "plt.ylabel('Test error')\n",
        "plt.title('Elbow Curve for test')\n",
        "#We can see the lower part is 3 so we are selecting the n_neighbors equls 3"
      ],
      "metadata": {
        "colab": {
          "base_uri": "https://localhost:8080/",
          "height": 312
        },
        "id": "Xd8ZRWT0vBhI",
        "outputId": "e704dc60-2f61-4a28-de36-d8a4ccf1c3bc"
      },
      "id": "Xd8ZRWT0vBhI",
      "execution_count": null,
      "outputs": [
        {
          "output_type": "execute_result",
          "data": {
            "text/plain": [
              "Text(0.5, 1.0, 'Elbow Curve for test')"
            ]
          },
          "metadata": {},
          "execution_count": 91
        },
        {
          "output_type": "display_data",
          "data": {
            "image/png": "[encoded data removed]",
            "text/plain": [
              "<Figure size 432x288 with 1 Axes>"
            ]
          },
          "metadata": {
            "needs_background": "light"
          }
        }
      ]
    },
    {
      "cell_type": "code",
      "source": [
        "clf2 = KNN(n_neighbors = 3,p=2)\n",
        "\n",
        "# Fitting the model\n",
        "clf2.fit(x_train, y_train)\n",
        "\n",
        "# Predicting over the Train Set and calculating F1\n",
        "test_predict = clf2.predict(x_valid)\n",
        "k = f1_score(test_predict, y_valid)\n",
        "print('Test F1 Score    ', k )\n"
      ],
      "metadata": {
        "colab": {
          "base_uri": "https://localhost:8080/"
        },
        "id": "v-s6WVXMv36N",
        "outputId": "0d893168-4977-4e70-c02e-717a993b855c"
      },
      "id": "v-s6WVXMv36N",
      "execution_count": null,
      "outputs": [
        {
          "output_type": "stream",
          "name": "stdout",
          "text": [
            "Test F1 Score     0.5975609756097562\n"
          ]
        }
      ]
    },
    {
      "cell_type": "code",
      "source": [
        "model = KNeighborsClassifier(n_neighbors = 3,p=2)\n",
        "model.fit(x_train,y_train)\n",
        "prediction_knn2=model.predict(x_valid)\n",
        "\n",
        "print('--------------The Accuracy of the model----------------------------')\n",
        "print('The accuracy of the K Nearst Neighbors Classifier is',\n",
        "      round(accuracy_score(prediction_knn2,\n",
        "                           y_valid)*100,2))\n",
        "print(\"---------------------------------------------------------------------\")\n",
        "print(classification_report(y_valid,prediction_knn2))"
      ],
      "metadata": {
        "colab": {
          "base_uri": "https://localhost:8080/"
        },
        "id": "UwdVlA32w8EU",
        "outputId": "da9ea022-83bc-452f-9eee-566d870642bc"
      },
      "id": "UwdVlA32w8EU",
      "execution_count": null,
      "outputs": [
        {
          "output_type": "stream",
          "name": "stdout",
          "text": [
            "--------------The Accuracy of the model----------------------------\n",
            "The accuracy of the K Nearst Neighbors Classifier is 62.07\n",
            "---------------------------------------------------------------------\n",
            "              precision    recall  f1-score   support\n",
            "\n",
            "           0       0.60      0.69      0.64        85\n",
            "           1       0.65      0.55      0.60        89\n",
            "\n",
            "    accuracy                           0.62       174\n",
            "   macro avg       0.62      0.62      0.62       174\n",
            "weighted avg       0.63      0.62      0.62       174\n",
            "\n"
          ]
        }
      ]
    },
    {
      "cell_type": "code",
      "source": [
        "kfold = KFold(n_splits=10)                          # k=10, split the data into 10 equal parts\n",
        "      \n",
        "\n",
        "result_knn=cross_val_score(clf2,\n",
        "                           x,\n",
        "                           y,\n",
        "                           cv=10,\n",
        "                           scoring='accuracy')\n",
        "\n",
        "print('The cross validated score for K Nearest Neighbors Classifier is:',\n",
        "      round(result_knn.mean()*100,2))"
      ],
      "metadata": {
        "colab": {
          "base_uri": "https://localhost:8080/"
        },
        "id": "u-QShKxuxouQ",
        "outputId": "f9916a2b-4f6e-47cc-a5c3-25d3bfa628a5"
      },
      "id": "u-QShKxuxouQ",
      "execution_count": null,
      "outputs": [
        {
          "output_type": "stream",
          "name": "stdout",
          "text": [
            "The cross validated score for K Nearest Neighbors Classifier is: 67.21\n"
          ]
        }
      ]
    },
    {
      "cell_type": "code",
      "source": [
        "#Our cross validation score for Knn is 67 and accuracy of the Classifier is 62. We can see that cross validation is greater than the our model.\n",
        "#An our model for p=2 is not giving better results comparing to p=2 but when compared to logistic regression there is mroe than 15 points difference.\n",
        "#Important thing is getting the best possible validation accuracy, since this is actually somewhat reflective of how the model will perform in the real life.\n",
        "#Selecting the knn is not best thing to do in this dataset.\n",
        "#F1 Score is used to measure a test’s accuracy and it is 0.64"
      ],
      "metadata": {
        "id": "yc1ZgkGFbnR3"
      },
      "id": "yc1ZgkGFbnR3",
      "execution_count": null,
      "outputs": []
    },
    {
      "cell_type": "code",
      "source": [
        "y_pred = cross_val_predict(model,\n",
        "                           x_test,\n",
        "                           y_test,\n",
        "                           cv=10)\n",
        "\n",
        "sns.heatmap(confusion_matrix(y_test,y_pred),\n",
        "            annot=True,fmt='3.0f',\n",
        "            cmap=\"summer\")\n",
        "\n",
        "plt.title('Confusion_matrix',\n",
        "          y=1.05,\n",
        "          size=15)\n",
        "\n",
        "#Confusion Matrix gives us a matrix as output and describes the complete performance of the model.Confusion Matrix forms the basis for the other types of metrics.\n",
        "#Our values are TP=113 TN=98 FP=70 FN=66\n",
        "#Precision = 113/183 = 0,61\n",
        "#Precision is how certain you are of your true positives. Our model is not as good as logistic regression also not good as the knn with p=1 coomparing the scores"
      ],
      "metadata": {
        "colab": {
          "base_uri": "https://localhost:8080/",
          "height": 300
        },
        "id": "A5X9MEaWypAl",
        "outputId": "78ef2f0b-ebfa-4139-d006-25a7db573dd3"
      },
      "id": "A5X9MEaWypAl",
      "execution_count": null,
      "outputs": [
        {
          "output_type": "execute_result",
          "data": {
            "text/plain": [
              "Text(0.5, 1.05, 'Confusion_matrix')"
            ]
          },
          "metadata": {},
          "execution_count": 96
        },
        {
          "output_type": "display_data",
          "data": {
            "image/png": "[encoded data removed]",
            "text/plain": [
              "<Figure size 432x288 with 2 Axes>"
            ]
          },
          "metadata": {
            "needs_background": "light"
          }
        }
      ]
    },
    {
      "cell_type": "code",
      "source": [
        "from sklearn.pipeline import Pipeline\n",
        "from sklearn.metrics import plot_precision_recall_curve\n",
        "p = KNN(n_neighbors=3,p=2)\n",
        "p.fit(x_train, y_train)\n",
        "plot_precision_recall_curve(p, x_test, y_test)\n",
        "#The right upper corner is what we ideally want and our curve is not exactly there. This is good thing \n",
        "#Area under the curve is important for us.We can say that this model is not good as the logistic regression and also not good as the knn with p=1(manhattan)"
      ],
      "metadata": {
        "colab": {
          "base_uri": "https://localhost:8080/",
          "height": 296
        },
        "id": "cH8HnQhezFC2",
        "outputId": "cdb4ee79-5db5-46a6-a9bc-3466ea36bacf"
      },
      "id": "cH8HnQhezFC2",
      "execution_count": null,
      "outputs": [
        {
          "output_type": "execute_result",
          "data": {
            "text/plain": [
              "<sklearn.metrics._plot.precision_recall_curve.PrecisionRecallDisplay at 0x7f0bca98d610>"
            ]
          },
          "metadata": {},
          "execution_count": 97
        },
        {
          "output_type": "display_data",
          "data": {
            "image/png": "[encoded data removed]",
            "text/plain": [
              "<Figure size 432x288 with 1 Axes>"
            ]
          },
          "metadata": {
            "needs_background": "light"
          }
        }
      ]
    },
    {
      "cell_type": "code",
      "source": [
        "print(\"ACCURACY OF THE KNN and LOGISCTIC REGRESSION ON SAME TABLE\")\n",
        "print(\"Logistic Regression-------\",(accuracy_logreg)*100)\n",
        "print(\"KNN for Manhattan Distance-------\",round(accuracy_score(prediction_knn1,\n",
        "                           y_valid)*100,2))\n",
        "print(\"KNN for Euclidean Distance--------\",round(accuracy_score(prediction_knn2,\n",
        "                           y_valid)*100,2))\n",
        "#We can say that by the accuracy of the models Logistic Regression is giving the best results fot our dataset. Which we have so many rows and some categorical variables."
      ],
      "metadata": {
        "colab": {
          "base_uri": "https://localhost:8080/"
        },
        "id": "Fcyss1TMVcYL",
        "outputId": "ad33db06-2793-4024-f6e5-55e2d858384d"
      },
      "id": "Fcyss1TMVcYL",
      "execution_count": null,
      "outputs": [
        {
          "output_type": "stream",
          "name": "stdout",
          "text": [
            "ACCURACY OF THE KNN and LOGISCTIC REGRESSION ON SAME TABLE\n",
            "Logistic Regression------- 97.23174539897681\n",
            "KNN for Manhattan Distance------- 77.59\n",
            "KNN for Euclidean Distance-------- 62.07\n"
          ]
        }
      ]
    }
  ]
}